{
 "cells": [
  {
   "cell_type": "code",
   "execution_count": 17,
   "metadata": {},
   "outputs": [
    {
     "name": "stdout",
     "output_type": "stream",
     "text": [
      "index_classes:{0: 'nm 评分', 1: 'nm 上映时间', 2: 'nm 类型', 3: 'nm 简介', 4: 'nm 演员列表', 5: 'nnt 介绍', 6: 'nnt ng电影作品', 7: 'nnt 电影作品', 8: 'nnt 参演评分大于 x', 9: 'nnt 参演评分小于 x', 10: 'nnt 电影类型', 11: 'nnt nnr合作电影列表', 12: 'nnt 电影数量', 13: 'nnt 出生日期', 14: '评分大于x电影', 15: '评分大于x的ng类型电影'}\n"
     ]
    },
    {
     "data": {
      "text/plain": [
       "<All keys matched successfully>"
      ]
     },
     "execution_count": 17,
     "metadata": {},
     "output_type": "execute_result"
    }
   ],
   "source": [
    "import torch\n",
    "import torch.nn as nn\n",
    "import torch.nn.functional as F\n",
    "import pickle\n",
    "import numpy as np\n",
    "import os\n",
    "import json\n",
    "import random\n",
    "    \n",
    "words_path = os.path.join(os.getcwd(), \"words.pkl\")\n",
    "with open(words_path, 'rb') as f_words:\n",
    "    words = pickle.load(f_words)\n",
    "    \n",
    "classes_path = os.path.join(os.getcwd(), \"classes.pkl\")\n",
    "with open(classes_path, 'rb') as f_classes:\n",
    "    classes = pickle.load(f_classes)\n",
    "    \n",
    "classes_index_path = os.path.join(os.getcwd(), \"classes_index.pkl\")\n",
    "with open(classes_index_path, 'rb') as f_classes_index:\n",
    "    classes_index = pickle.load(f_classes_index)\n",
    "    \n",
    "index_classes = dict(zip(classes_index.keys(), classes_index.values()))\n",
    "\n",
    "print('index_classes:{}'.format(index_classes))\n",
    "\n",
    "class classifyModel(nn.Module):\n",
    "    \n",
    "    def __init__(self):\n",
    "        super(classifyModel, self).__init__()\n",
    "        self.model = nn.Sequential(\n",
    "                nn.Linear(len(words), 128),\n",
    "                nn.ReLU(),\n",
    "                nn.Dropout(0.5),\n",
    "                nn.Linear(128, 64),\n",
    "                nn.ReLU(),\n",
    "                nn.Dropout(0.5),\n",
    "                nn.Linear(64, len(classes)))\n",
    "    def forward(self, x):\n",
    "            out = self.model(x)\n",
    "            return out\n",
    "        \n",
    "model = classifyModel()\n",
    "model_path = os.path.join(os.getcwd(), \"chatbot_model.h5\")\n",
    "model.load_state_dict(torch.load(model_path))\n"
   ]
  },
  {
   "cell_type": "code",
   "execution_count": 20,
   "metadata": {},
   "outputs": [
    {
     "name": "stdout",
     "output_type": "stream",
     "text": [
      "[高于/v, 7/m, 分/n, 的/ude1, 战争/ng, 电影/n]\n",
      "['高于', ' ', 'x', ' ', '分', ' ', '的', ' ', 'ng', ' ', '电影', ' ']\n",
      "outputs:tensor([[  5.4389,  -6.5518,   6.2008, -21.4025,   5.9451, -28.0101,  13.1562,\n",
      "          -2.8066,  14.3105,  -0.6997,   0.6496, -17.0244,   1.0860, -17.4498,\n",
      "          16.1595,  29.7839]], grad_fn=<AddmmBackward>)\n",
      "softmax_prob:tensor([1.0000], grad_fn=<MaxBackward0>)\n",
      "softmax_index:tensor([15])\n",
      "result:[{'intent': '评分大于x的ng类型电影', 'prob': '0.99999857'}]\n",
      "评分大于x的ng类型电影\n"
     ]
    }
   ],
   "source": [
    "from pyhanlp import HanLP\n",
    "\n",
    "segment = HanLP.newSegment().enableCustomDictionaryForcing(True)\n",
    "\n",
    "\n",
    "# 分词，需要将电影名，演员名和评分数字转为nm，nnt，ng\n",
    "def sentence_segment(sentence):\n",
    "    word_nature = segment.seg(sentence)\n",
    "    print(word_nature)\n",
    "    sentence_words = []\n",
    "    for term in word_nature:\n",
    "        if str(term.nature) == 'nnt':\n",
    "            sentence_words.append('nnt')\n",
    "            sentence_words.append(' ')\n",
    "        elif str(term.nature) == 'nm':\n",
    "            sentence_words.append('nm')\n",
    "            sentence_words.append(' ')\n",
    "        elif str(term.nature) == 'ng':\n",
    "            sentence_words.append('ng')\n",
    "            sentence_words.append(' ')\n",
    "        elif str(term.nature) == 'm':\n",
    "            sentence_words.append('x')\n",
    "            sentence_words.append(' ')\n",
    "        else:\n",
    "            sentence_words.append(term.word)\n",
    "            sentence_words.append(' ')\n",
    "    print(sentence_words)\n",
    "    return sentence_words\n",
    "\n",
    "def bow(sentence, words, show_detail = True):\n",
    "    sentence_words = sentence_segment(sentence)\n",
    "    #词袋\n",
    "    bag = [0] * len(words)\n",
    "    for s in sentence_words:\n",
    "        for i,w in enumerate(words):\n",
    "            if w == s:\n",
    "                bag[i] = 1 #词在词典中\n",
    "            if show_detail:\n",
    "                print(\"found in bag:{}\".format(w))\n",
    "    return [bag]\n",
    "\n",
    "def predict_class(sentence, model):\n",
    "    sentence_bag = bow(sentence, words, False)\n",
    "    model.eval()\n",
    "    outputs = model(torch.FloatTensor(sentence_bag))\n",
    "    print('outputs:{}'.format(outputs))\n",
    "    predicted_prob,predicted_index = torch.max(F.softmax(outputs, 1), 1)#预测最大类别的概率与索引\n",
    "    print('softmax_prob:{}'.format(predicted_prob))\n",
    "    print('softmax_index:{}'.format(predicted_index))\n",
    "    results = []\n",
    "    results.append({'intent':index_classes[predicted_index.detach().numpy()[0]], 'prob':str(predicted_prob.detach().numpy()[0])})\n",
    "    print('result:{}'.format(results))\n",
    "    return results\n",
    " \n",
    "def get_response(predict_result):\n",
    "    tag = predict_result[0]['intent']\n",
    "    return tag\n",
    "\n",
    "def chatbot_response(text):\n",
    "    predict_result = predict_class(text, model)\n",
    "    res = get_response(predict_result)\n",
    "    return res\n",
    "print(chatbot_response(\"高于7分的战争电影\"))"
   ]
  },
  {
   "cell_type": "code",
   "execution_count": null,
   "metadata": {},
   "outputs": [],
   "source": []
  }
 ],
 "metadata": {
  "kernelspec": {
   "display_name": "Python 3",
   "language": "python",
   "name": "python3"
  },
  "language_info": {
   "codemirror_mode": {
    "name": "ipython",
    "version": 3
   },
   "file_extension": ".py",
   "mimetype": "text/x-python",
   "name": "python",
   "nbconvert_exporter": "python",
   "pygments_lexer": "ipython3",
   "version": "3.6.5"
  }
 },
 "nbformat": 4,
 "nbformat_minor": 2
}
