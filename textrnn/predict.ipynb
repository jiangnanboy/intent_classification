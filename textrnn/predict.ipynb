{
 "cells": [
  {
   "cell_type": "code",
   "execution_count": 7,
   "metadata": {},
   "outputs": [
    {
     "data": {
      "text/plain": [
       "<All keys matched successfully>"
      ]
     },
     "execution_count": 7,
     "metadata": {},
     "output_type": "execute_result"
    }
   ],
   "source": [
    "import torch\n",
    "import torch.nn as nn\n",
    "import torch.nn.functional as F\n",
    "import pickle\n",
    "import numpy as np\n",
    "import os\n",
    "import json\n",
    "import random\n",
    "    \n",
    "words_path = os.path.join(os.getcwd(), \"words.pkl\")\n",
    "with open(words_path, 'rb') as f_words:\n",
    "    words = pickle.load(f_words)\n",
    "    \n",
    "# 构建分类模型\n",
    "class TextRNN(nn.Module):\n",
    "    def __init__(self, vocab_size, embedding_dim, hidden_size, num_layers, output_size, dropout=0.5):\n",
    "        super(TextRNN, self).__init__()\n",
    "        self.embedding = nn.Embedding(vocab_size, embedding_dim)\n",
    "        # 这里batch_first=True，只影响输入和输出。hidden与cell还是batch在第2维\n",
    "        self.lstm = nn.LSTM(embedding_dim, hidden_size, num_layers, bidirectional=True, batch_first=True, dropout=dropout)\n",
    "        self.fc = nn.Linear(hidden_size*2, output_size)\n",
    "        \n",
    "    def forward(self, x):\n",
    "        # x :(batch, seq_len) = (163, 20)\n",
    "        # [batch,seq_len,embedding_dim] -> (163, 20, 300)\n",
    "        x = self.embedding(x) \n",
    "        #out=[batch_size, seq_len, hidden_size*2]\n",
    "        #h=[num_layers*2, batch_size, hidden_size]\n",
    "        #c=[num_layers*2, batch_size, hidden_size]\n",
    "        out,(h, c)= self.lstm(x)\n",
    "        # 最后时刻的hidden\n",
    "        out = self.fc(out[:, -1, :])\n",
    "        return out\n",
    "        \n",
    "model = TextRNN(len(words), 300, 128, 2, 16)\n",
    "model_path = os.path.join(os.getcwd(), \"model.h5\")\n",
    "model.load_state_dict(torch.load(model_path))\n"
   ]
  },
  {
   "cell_type": "code",
   "execution_count": 13,
   "metadata": {},
   "outputs": [
    {
     "name": "stdout",
     "output_type": "stream",
     "text": [
      "[张国荣/nnt]\n",
      "['nnt']\n",
      "outputs:tensor([[ 1.8594,  1.9003,  1.5639, -1.2812,  5.1077, -1.6340,  2.0733,  1.8545,\n",
      "         -8.1699, -6.1456,  1.7393, -0.6705,  3.4907,  2.7885, -2.3077, -2.1625]])\n",
      "softmax_prob:tensor([0.6521])\n",
      "softmax_index:tensor([4])\n",
      "result:[{'intent': 4, 'prob': 0.6521061}]\n",
      "4\n"
     ]
    }
   ],
   "source": [
    "from pyhanlp import HanLP\n",
    "\n",
    "segment = HanLP.newSegment().enableCustomDictionaryForcing(True)\n",
    "\n",
    "\n",
    "# 分词，需要将电影名，演员名和评分数字转为nm，nnt，ng\n",
    "def sentence_segment(sentence):\n",
    "    word_nature = segment.seg(sentence)\n",
    "    print(word_nature)\n",
    "    sentence_words = []\n",
    "    for term in word_nature:\n",
    "        if str(term.nature) == 'nnt':\n",
    "            sentence_words.append('nnt')\n",
    "        elif str(term.nature) == 'nm':\n",
    "            sentence_words.append('nm')\n",
    "        elif str(term.nature) == 'ng':\n",
    "            sentence_words.append('ng')\n",
    "        elif str(term.nature) == 'm':\n",
    "            sentence_words.append('x')\n",
    "        else:\n",
    "            sentence_words.extend(list(term.word))\n",
    "    print(sentence_words)\n",
    "    return sentence_words\n",
    "\n",
    "def bow(sentence, words, show_detail = True):\n",
    "    sentence_words = sentence_segment(sentence)\n",
    "    indexed = [words.stoi[t] for t in sentence_words]\n",
    "    src_tensor = torch.LongTensor(indexed)\n",
    "    src_tensor = src_tensor.unsqueeze(0)\n",
    "    return src_tensor\n",
    "\n",
    "def predict_class(sentence, model):\n",
    "    sentence_bag = bow(sentence, words, False)\n",
    "    model.eval()\n",
    "    with torch.no_grad():\n",
    "        outputs = model(sentence_bag)\n",
    "    print('outputs:{}'.format(outputs))\n",
    "    predicted_prob,predicted_index = torch.max(F.softmax(outputs, 1), 1)#预测最大类别的概率与索引\n",
    "    print('softmax_prob:{}'.format(predicted_prob))\n",
    "    print('softmax_index:{}'.format(predicted_index))\n",
    "    results = []\n",
    "    #results.append({'intent':index_classes[predicted_index.detach().numpy()[0]], 'prob':predicted_prob.detach().numpy()[0]})\n",
    "    results.append({'intent':predicted_index.detach().numpy()[0], 'prob':predicted_prob.detach().numpy()[0]})\n",
    "    print('result:{}'.format(results))\n",
    "    return results\n",
    " \n",
    "def get_response(predict_result):\n",
    "    tag = predict_result[0]['intent']\n",
    "    return tag\n",
    "\n",
    "def predict(text):\n",
    "    predict_result = predict_class(text, model)\n",
    "    res = get_response(predict_result)\n",
    "    return res\n",
    "print(predict(\"张国荣\"))"
   ]
  },
  {
   "cell_type": "code",
   "execution_count": null,
   "metadata": {},
   "outputs": [],
   "source": []
  }
 ],
 "metadata": {
  "kernelspec": {
   "display_name": "Python 3",
   "language": "python",
   "name": "python3"
  },
  "language_info": {
   "codemirror_mode": {
    "name": "ipython",
    "version": 3
   },
   "file_extension": ".py",
   "mimetype": "text/x-python",
   "name": "python",
   "nbconvert_exporter": "python",
   "pygments_lexer": "ipython3",
   "version": "3.6.5"
  }
 },
 "nbformat": 4,
 "nbformat_minor": 2
}
